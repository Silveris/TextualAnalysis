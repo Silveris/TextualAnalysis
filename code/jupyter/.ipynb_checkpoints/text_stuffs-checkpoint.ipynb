{
 "cells": [
  {
   "cell_type": "code",
   "execution_count": 22,
   "metadata": {},
   "outputs": [],
   "source": [
    "import pandas as ps"
   ]
  },
  {
   "cell_type": "code",
   "execution_count": 2,
   "metadata": {},
   "outputs": [
    {
     "data": {
      "text/plain": [
       "'\\n    given a string, break it into seperate individual lowercase words and text analysis on them using pandas or watever else\\n    \\n'"
      ]
     },
     "execution_count": 2,
     "metadata": {},
     "output_type": "execute_result"
    }
   ],
   "source": [
    "'''\n",
    "    given a string, break it into seperate individual lowercase words and text analysis on them using pandas or watever else\n",
    "    \n",
    "'''"
   ]
  },
  {
   "cell_type": "code",
   "execution_count": 3,
   "metadata": {},
   "outputs": [],
   "source": [
    "sample_text = '''\n",
    "Stand up for God in the land of the fire\n",
    "Bring on the madness, you're born to destroy\n",
    "Beyond the trail of Tartarean riders\n",
    "Armata strigoi\n",
    "Before the morning can break we retire\n",
    "The searing heat of the sun we avoid\n",
    "Await the dark proud Walachian fighters\n",
    "Armata strigoi\n",
    "We are the stormbound, the avatar\n",
    "We are the sons of God and sorrow\n",
    "We are the ones who see no tomorrow\n",
    "Suck up! Armata de strigoi\n",
    "We hail the cross and we kill by the Bible\n",
    "For seven sins are defined to deploy\n",
    "Along the front of Moldavian strikers\n",
    "Armata strigoi\n",
    "We pray for mercy of Mater Maria\n",
    "The sacred lie who gave birth to the boy\n",
    "We drink the blood of the fallen believer\n",
    "Armata strigoi\n",
    "We are the stormbound, the avatar\n",
    "We are the sons of God and sorrow\n",
    "We are the ones who see no tomorrow\n",
    "Suck up! Armata de strigoi\n",
    "We are the stormbound, the avatar\n",
    "We are the sons of God and sorrow\n",
    "We are the ones who see no tomorrow\n",
    "Suck up! Armata de strigoi\n",
    "'''"
   ]
  },
  {
   "cell_type": "code",
   "execution_count": 9,
   "metadata": {},
   "outputs": [],
   "source": [
    "def remove_non_letters(string):\n",
    "    '''\n",
    "        given a string, trys to remove all non letter charters from it\n",
    "    '''\n",
    "    # makes a temp variable to alter\n",
    "    middle_str = string\n",
    "    \n",
    "    # tries to remove any unwanted charters\n",
    "    try:\n",
    "        middle_str = middle_str.replace('.','')\n",
    "        middle_str = middle_str.replace(',','')\n",
    "        middle_str = middle_str.replace('!','')\n",
    "        middle_str = middle_str.replace('?','')\n",
    "        middle_str = middle_str.replace(\"\\'\",'')\n",
    "    except:\n",
    "        print('error somewhere')\n",
    "    # makes the clean variable\n",
    "    cleaned_string = middle_str\n",
    "        \n",
    "    return(cleaned_string)"
   ]
  },
  {
   "cell_type": "code",
   "execution_count": 23,
   "metadata": {},
   "outputs": [],
   "source": [
    "def clean_text(list_of_str):\n",
    "    '''\n",
    "        given a list of strings,\n",
    "        removes non letter charaters and makes them all lower\n",
    "    '''\n",
    "    # makes a empty list for the cleaned words to be stored in\n",
    "    new_list = []\n",
    "    # cleans the words and sets the to lowercase\n",
    "    for word in list_of_str:\n",
    "        new_word = remove_non_letters(word)\n",
    "        new_word = new_word.lower()\n",
    "        new_list.append(new_word)\n",
    "    return(new_list)"
   ]
  },
  {
   "cell_type": "code",
   "execution_count": null,
   "metadata": {},
   "outputs": [],
   "source": []
  },
  {
   "cell_type": "code",
   "execution_count": null,
   "metadata": {},
   "outputs": [],
   "source": []
  },
  {
   "cell_type": "code",
   "execution_count": null,
   "metadata": {},
   "outputs": [],
   "source": []
  },
  {
   "cell_type": "code",
   "execution_count": null,
   "metadata": {},
   "outputs": [],
   "source": []
  },
  {
   "cell_type": "code",
   "execution_count": 4,
   "metadata": {},
   "outputs": [],
   "source": [
    "split_text_1 = sample_text.split()"
   ]
  },
  {
   "cell_type": "code",
   "execution_count": 20,
   "metadata": {},
   "outputs": [],
   "source": [
    "# split_text_1"
   ]
  },
  {
   "cell_type": "code",
   "execution_count": 17,
   "metadata": {},
   "outputs": [],
   "source": [
    "# drop all non letter chareters and make everything lowercase\n",
    "cleaned_text = []\n",
    "for word in split_text_1:\n",
    "    new_word = remove_non_letters(word)\n",
    "    new_word = new_word.lower()\n",
    "    cleaned_text.append(new_word)"
   ]
  },
  {
   "cell_type": "code",
   "execution_count": null,
   "metadata": {},
   "outputs": [],
   "source": []
  },
  {
   "cell_type": "code",
   "execution_count": 21,
   "metadata": {},
   "outputs": [],
   "source": [
    "# cleaned_text"
   ]
  },
  {
   "cell_type": "code",
   "execution_count": null,
   "metadata": {},
   "outputs": [],
   "source": []
  }
 ],
 "metadata": {
  "kernelspec": {
   "display_name": "Python 3",
   "language": "python",
   "name": "python3"
  },
  "language_info": {
   "codemirror_mode": {
    "name": "ipython",
    "version": 3
   },
   "file_extension": ".py",
   "mimetype": "text/x-python",
   "name": "python",
   "nbconvert_exporter": "python",
   "pygments_lexer": "ipython3",
   "version": "3.7.6"
  }
 },
 "nbformat": 4,
 "nbformat_minor": 4
}
